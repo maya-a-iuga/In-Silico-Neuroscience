{
 "cells": [
  {
   "cell_type": "markdown",
   "metadata": {},
   "source": [
    "<center><font size = \"10\"> Week 8 - Synapses <center>\n",
    "<center><font size = \"8\">Home work - Solutions<center>"
   ]
  },
  {
   "cell_type": "code",
   "execution_count": 2,
   "metadata": {},
   "outputs": [
    {
     "name": "stdout",
     "output_type": "stream",
     "text": [
      "/home/In Silico Neuroscience/h8 - Synapses/Homework_week8\n",
      "SimpleAMPA_NMDA.mod TsodyksMarkram_AMPA_NMDA.mod vecevent.mod\n",
      "SimpleAMPA_NMDA.mod TsodyksMarkram_AMPA_NMDA.mod vecevent.mod\n",
      "\"/usr/local/nrn/x86_64/bin/nocmodl\" TsodyksMarkram_AMPA_NMDA\n",
      "\"/usr/local/nrn/x86_64/bin/nocmodl\" vecevent\n",
      "\"/usr/local/nrn/share/nrn/libtool\" --tag=CC --mode=compile gcc -DHAVE_CONFIG_H  -I. -I.. -I\"/usr/local/nrn/include/nrn\" -I\"/usr/local/nrn/x86_64/lib\"      -g -O2 -c -o mod_func.lo mod_func.c\n",
      "Translating TsodyksMarkram_AMPA_NMDA.mod into TsodyksMarkram_AMPA_NMDA.c\n",
      "Translating vecevent.mod into vecevent.c\n",
      "Notice: Use of POINTER is not thread safe.\n",
      "Notice: VERBATIM blocks are not thread safe\n",
      "Notice: ARTIFICIAL_CELL is a synonym for POINT_PROCESS which hints that it\n",
      "only affects and is affected by discrete events. As such it is not\n",
      "located in a section and is not associated with an integrator\n",
      "libtool: compile:  gcc -DHAVE_CONFIG_H -I. -I.. -I/usr/local/nrn/include/nrn -I/usr/local/nrn/x86_64/lib -g -O2 -c mod_func.c  -fPIC -DPIC -o .libs/mod_func.o\n",
      "Thread Safe\n",
      "\"/usr/local/nrn/share/nrn/libtool\" --tag=CC --mode=compile gcc -DHAVE_CONFIG_H  -I. -I.. -I\"/usr/local/nrn/include/nrn\" -I\"/usr/local/nrn/x86_64/lib\"      -g -O2 -c -o TsodyksMarkram_AMPA_NMDA.lo TsodyksMarkram_AMPA_NMDA.c\n",
      "\"/usr/local/nrn/share/nrn/libtool\" --tag=CC --mode=compile gcc -DHAVE_CONFIG_H  -I. -I.. -I\"/usr/local/nrn/include/nrn\" -I\"/usr/local/nrn/x86_64/lib\"      -g -O2 -c -o vecevent.lo vecevent.c\n",
      "libtool: compile:  gcc -DHAVE_CONFIG_H -I. -I.. -I/usr/local/nrn/include/nrn -I/usr/local/nrn/x86_64/lib -g -O2 -c TsodyksMarkram_AMPA_NMDA.c  -fPIC -DPIC -o .libs/TsodyksMarkram_AMPA_NMDA.o\n",
      "libtool: compile:  gcc -DHAVE_CONFIG_H -I. -I.. -I/usr/local/nrn/include/nrn -I/usr/local/nrn/x86_64/lib -g -O2 -c vecevent.c  -fPIC -DPIC -o .libs/vecevent.o\n",
      "\"/usr/local/nrn/share/nrn/libtool\" --tag=CC --mode=link gcc -module  -g -O2    -o libnrnmech.la -rpath \"/usr/local/nrn/x86_64/lib\"  SimpleAMPA_NMDA.lo TsodyksMarkram_AMPA_NMDA.lo vecevent.lo mod_func.lo  -L\"/usr/local/nrn/x86_64/lib\" -lnrnoc -loc -lmemacs  -lscopmath -lsparse13 -lreadline -lncurses -ltinfo -L\"/usr/local/nrn/x86_64/lib\" -lnrniv -livoc -lneuron_gnu -lmeschach -lsundials       -lm -ldl\n",
      "libtool: link: rm -fr  .libs/libnrnmech.la .libs/libnrnmech.lai .libs/libnrnmech.so .libs/libnrnmech.so.0 .libs/libnrnmech.so.0.0.0\n",
      "libtool: link: gcc -shared  -fPIC -DPIC  .libs/SimpleAMPA_NMDA.o .libs/TsodyksMarkram_AMPA_NMDA.o .libs/vecevent.o .libs/mod_func.o   -Wl,-rpath -Wl,/usr/local/nrn/x86_64/lib -Wl,-rpath -Wl,/usr/local/nrn/x86_64/lib -L/usr/local/nrn/x86_64/lib /usr/local/nrn/x86_64/lib/libnrnoc.so /usr/local/nrn/x86_64/lib/liboc.so /usr/local/nrn/x86_64/lib/libmemacs.so /usr/local/nrn/x86_64/lib/libscopmath.so /usr/local/nrn/x86_64/lib/libsparse13.so -lreadline -lncurses -ltinfo /usr/local/nrn/x86_64/lib/libnrniv.so /usr/local/nrn/x86_64/lib/libivoc.so /usr/local/nrn/x86_64/lib/libneuron_gnu.so /usr/local/nrn/x86_64/lib/libmeschach.so /usr/local/nrn/x86_64/lib/libsundials.so -lm -ldl  -g -O2   -pthread -Wl,-soname -Wl,libnrnmech.so.0 -o .libs/libnrnmech.so.0.0.0\n",
      "libtool: link: (cd \".libs\" && rm -f \"libnrnmech.so.0\" && ln -s \"libnrnmech.so.0.0.0\" \"libnrnmech.so.0\")\n",
      "libtool: link: (cd \".libs\" && rm -f \"libnrnmech.so\" && ln -s \"libnrnmech.so.0.0.0\" \"libnrnmech.so\")\n",
      "libtool: link: ( cd \".libs\" && rm -f \"libnrnmech.la\" && ln -s \"../libnrnmech.la\" \"libnrnmech.la\" )\n",
      "Successfully created x86_64/special\n"
     ]
    }
   ],
   "source": [
    "!nrnivmodl "
   ]
  },
  {
   "cell_type": "code",
   "execution_count": 1,
   "metadata": {},
   "outputs": [],
   "source": [
    "import neuron\n",
    "from neuron import h\n",
    "import numpy as np\n",
    "import matplotlib.pyplot as plt\n",
    "%matplotlib inline\n",
    "\n",
    "# Load external files & initialize\n",
    "h.load_file(\"stdrun.hoc\");\n",
    "h.stdinit();"
   ]
  },
  {
   "cell_type": "markdown",
   "metadata": {},
   "source": [
    "## Ex1. Plot the dependence of the NMDA conductance on Mg<sup>2+</sup>.\n",
    "\n",
    "<font sie='3'>Create a single compartmental soma neuron to host the synpase modeled in SimpleAMPA_NMDA.mod file. Using the stimulation pattern and the values for the peak synaptic conductances used in tutorial 01, plot the NMDA conductance after removing the magnesium block, without changing the Mg<sup>2+</sup> concentration. Show how the NMDA conductance changes as the magnesium block is gradually removed.\n",
    "    \n",
    "<font sie='3'>Explain what happens to the NMDA conductance and why, in a mechanistic sense, does this happen. What could be the functional purpose of this behavior? [1.5 pts]"
   ]
  },
  {
   "cell_type": "markdown",
   "metadata": {},
   "source": [
    "#### Response: "
   ]
  },
  {
   "cell_type": "code",
   "execution_count": 2,
   "metadata": {},
   "outputs": [],
   "source": [
    "# create neuron + biophysics properties\n",
    "soma = neuron.h.Section()\n",
    "soma.L = 40\n",
    "soma.diam = 40\n",
    "soma.insert('pas')\n",
    "for sec in h.allsec():\n",
    "    sec.Ra = 100\n",
    "    sec.cm = 1\n",
    "    \n",
    "# create synapse on the soma\n",
    "synapse = h.SimpleAMPA_NMDA(soma(0.5))\n",
    "\n",
    "synapse.gmax_AMPA = 0.001 # uS\n",
    "synapse.gmax_NMDA = 0.7 * 0.001 # uS - 0.7 is a biologically typical ratio of NMDA to AMPA conductance"
   ]
  },
  {
   "cell_type": "code",
   "execution_count": 3,
   "metadata": {},
   "outputs": [
    {
     "data": {
      "text/plain": [
       "Vector[4]"
      ]
     },
     "execution_count": 3,
     "metadata": {},
     "output_type": "execute_result"
    }
   ],
   "source": [
    "# define stimulation: 8 spikes at 20Hz + 1 spike 500 ms later\n",
    "stimulator = h.VecStim()\n",
    "spike_times = [100.0, 150.0, 200.0, 250.0, 300.0, 350.0, 400.0, 450.0, 950.0]\n",
    "spikes_vector = h.Vector(spike_times)\n",
    "stimulator.play(spikes_vector)\n",
    "\n",
    "connection = h.NetCon(stimulator, synapse)\n",
    "connection.weight[0] = 1.0        # In units of [nS] due to the gmax scaling factor in our .mod file\n",
    "\n",
    "# Create a recorder for the time intervals and NMDA conductance\n",
    "time = h.Vector()\n",
    "time.record(neuron.h._ref_t)\n",
    "g_NMDA = h.Vector()\n",
    "g_NMDA.record(synapse._ref_g_NMDA)\n",
    "i_syn = h.Vector()\n",
    "i_syn.record(synapse._ref_i)\n",
    "v_soma = h.Vector()\n",
    "v_soma.record(soma(0.5)._ref_v)"
   ]
  },
  {
   "cell_type": "code",
   "execution_count": 4,
   "metadata": {},
   "outputs": [
    {
     "data": {
      "text/plain": [
       "<matplotlib.legend.Legend at 0x7f7eed75b4a8>"
      ]
     },
     "execution_count": 4,
     "metadata": {},
     "output_type": "execute_result"
    },
    {
     "data": {
      "image/png": "[encoded data removed]",
      "text/plain": [
       "<Figure size 432x288 with 1 Axes>"
      ]
     },
     "metadata": {
      "needs_background": "light"
     },
     "output_type": "display_data"
    }
   ],
   "source": [
    "synapse.mg = 1.0 # mM\n",
    "h.tstop = 1100.0 # ms\n",
    "h.run()\n",
    "\n",
    "plt.figure()\n",
    "plt.plot(time, g_NMDA, label= 'g_NMDA')\n",
    "plt.axis([80.0, 1100.0, 0.0, 0.0002])\n",
    "plt.legend()"
   ]
  },
  {
   "cell_type": "code",
   "execution_count": 5,
   "metadata": {},
   "outputs": [
    {
     "data": {
      "text/plain": [
       "<matplotlib.legend.Legend at 0x7f12320eae48>"
      ]
     },
     "execution_count": 5,
     "metadata": {},
     "output_type": "execute_result"
    },
    {
     "data": {
      "image/png": "[encoded data removed]",
      "text/plain": [
       "<Figure size 432x288 with 1 Axes>"
      ]
     },
     "metadata": {
      "needs_background": "light"
     },
     "output_type": "display_data"
    }
   ],
   "source": [
    "synapse.mg = 0.5 # mM\n",
    "h.tstop = 1100.0 # ms\n",
    "h.run()\n",
    "\n",
    "plt.figure()\n",
    "plt.plot(time, g_NMDA, label= 'g_NMDA')\n",
    "plt.axis([80.0, 1100.0, 0.0, 0.0002])\n",
    "plt.legend()"
   ]
  },
  {
   "cell_type": "markdown",
   "metadata": {},
   "source": [
    "We fix the Mg2+ concentration. At resting membrane potential the magnesium blocks all the NMDA channels. The initial depolarization will release some magnesium blocks, opening the NMDA channels and increasing the conductance. If the second spike arrives shortly after the first depolarization, the new depolarization will release more magnesium blocks, increasing the conductance with respect to the first spike. For the last spike, the channels have re-taken the magnesium block and therefore, the conductance achieved is the same as for the first spike.\n",
    "\n",
    "The smaller the magnesium concentration, the faster the magnesium block will be removed when the stimulus come and, therefore, the higher the conductance."
   ]
  },
  {
   "cell_type": "markdown",
   "metadata": {},
   "source": [
    "## Ex2. Configure a pseudolinear synapse (E3)\n",
    "\n",
    "<font size='3'> Create a single compartmental soma neuron, add to it passive properties, add to the center of the neuron a synapse with the mechanism modeled in TsodyksMarkram_AMPA_NMDA.mod file, inject a stimulation pattern and define the conductances for NMDA and AMPA receptors, as it was done in tutorial 02. \n",
    "\n",
    "<font size='3'>Find the values for U1, tau_rec and tau_facil that would make the synapse behave as a pseudolinear synapse and plot the R, Use and conductance curves.\n",
    "    \n",
    "<font size='3'>Define U1, tau_rec and tau_facil. Would you be able to define any relation between these variables depending on the synapse type? If yes, please explain. [1.5 pts]    "
   ]
  },
  {
   "cell_type": "markdown",
   "metadata": {},
   "source": [
    "#### Response: "
   ]
  },
  {
   "cell_type": "code",
   "execution_count": 6,
   "metadata": {},
   "outputs": [],
   "source": [
    "# create soma\n",
    "soma = neuron.h.Section()\n",
    "soma.L = 40\n",
    "soma.diam = 40\n",
    "soma.insert('pas')\n",
    "\n",
    "# Configure the passive biophysics\n",
    "for sec in h.allsec():\n",
    "    sec.Ra = 100\n",
    "    sec.cm = 1\n",
    "    \n",
    "# synapse:\n",
    "synapse = h.TsodyksMarkram_AMPA_NMDA(soma(0.5))\n",
    "synapse.gmax_AMPA = 0.002 # uS\n",
    "synapse.gmax_NMDA = 0.7 * 0.002 # uS - 0.7 is a biologically typical ratio of NMDA to AMPA conductance\n",
    "synapse.mg = 1.0 # mM"
   ]
  },
  {
   "cell_type": "code",
   "execution_count": 7,
   "metadata": {},
   "outputs": [
    {
     "data": {
      "text/plain": [
       "Vector[9]"
      ]
     },
     "execution_count": 7,
     "metadata": {},
     "output_type": "execute_result"
    }
   ],
   "source": [
    "stimulator = h.VecStim()\n",
    "spike_times = [100.0, 150.0, 200.0, 250.0, 300.0, 350.0, 400.0, 450.0, 950.0]\n",
    "spikes_vector = h.Vector(spike_times)\n",
    "stimulator.play(spikes_vector)\n",
    "\n",
    "connection = h.NetCon(stimulator, synapse)\n",
    "connection.weight[0] = 1.0        # In units of [nS] due to the gmax scaling factor in our .mod file\n",
    "\n",
    "g_syn = h.Vector()\n",
    "g_syn.record(synapse._ref_g)\n",
    "i_syn = h.Vector()\n",
    "i_syn.record(synapse._ref_i)\n",
    "v_soma = h.Vector()\n",
    "v_soma.record(soma(0.5)._ref_v)\n",
    "time = h.Vector()\n",
    "time.record(neuron.h._ref_t)\n",
    "R_syn = h.Vector()\n",
    "R_syn.record(synapse._ref_R)\n",
    "Use_syn = h.Vector()\n",
    "Use_syn.record(synapse._ref_Use)"
   ]
  },
  {
   "cell_type": "code",
   "execution_count": 8,
   "metadata": {},
   "outputs": [
    {
     "data": {
      "text/plain": [
       "0.0"
      ]
     },
     "execution_count": 8,
     "metadata": {},
     "output_type": "execute_result"
    }
   ],
   "source": [
    "synapse.U1 = 0.3 # Baseline release probability\n",
    "synapse.tau_rec = 300 # ms - recovery from depression\n",
    "synapse.tau_facil = 300 # ms - relaxation from facilitation\n",
    "\n",
    "h.tstop = 1000.0 # ms\n",
    "neuron.h.run()"
   ]
  },
  {
   "cell_type": "code",
   "execution_count": 9,
   "metadata": {},
   "outputs": [
    {
     "data": {
      "text/plain": [
       "<matplotlib.legend.Legend at 0x7f123207a320>"
      ]
     },
     "execution_count": 9,
     "metadata": {},
     "output_type": "execute_result"
    },
    {
     "data": {
      "image/png": "[encoded data removed]",
      "text/plain": [
       "<Figure size 432x288 with 1 Axes>"
      ]
     },
     "metadata": {
      "needs_background": "light"
     },
     "output_type": "display_data"
    },
    {
     "data": {
      "image/png": "[encoded data removed]",
      "text/plain": [
       "<Figure size 432x288 with 1 Axes>"
      ]
     },
     "metadata": {
      "needs_background": "light"
     },
     "output_type": "display_data"
    }
   ],
   "source": [
    "plt.figure()\n",
    "plt.plot(time, R_syn, label='$R$ - frac. of pool avail.')\n",
    "plt.plot(time, Use_syn, label='$U_{SE}$ - running rel. prob.')\n",
    "plt.legend()\n",
    "plt.axis([0,1000,0,1.5])\n",
    "\n",
    "plt.figure()\n",
    "plt.plot(time, g_syn, label=\"$g_{syn}$\")\n",
    "plt.legend()"
   ]
  },
  {
   "cell_type": "markdown",
   "metadata": {},
   "source": [
    "U_1: baseline fraction of synaptic resources used by a single spike (baseline release probability)\n",
    "\n",
    "tau_rec: how long it takes until the synapse is as strong as before the first AP arrived. Time it takes to recover all initial resources after depression.\n",
    "\n",
    "tau_facil: relaxation time of facilitation, how long until the next synapse recovers the baseline release probability.\n",
    "\n",
    "In a facilitating synapse, tau_rec and U_1 present a smaller value than for the depressing synapse, while tau_facil will be larger. In the facilitating synapse, this will lead to a smaller amout of resources released at the beginning and a fast time to recover the resources used, what will lead to an increasing release every action potential, increasing its conductance. On the other hand, for the depressing there will be a high release of resources after the first AP. The following APs will have a reduced amount of resources available, decreasing the conductance for the following APs. The pseudo-linear case is an intermediary case."
   ]
  },
  {
   "cell_type": "markdown",
   "metadata": {},
   "source": [
    "# Ex 3. Ornstein-Uhlenbeck Process\n",
    "\n",
    "<font size='3'> Based on the data from one of connections in your group folder (.h5 files), calculate the parameters reuqired for an Ornstein-Uhlenbeck process, and plot their distributions as shown in [Barros-Zulaica et al., 2019](https://www.ncbi.nlm.nih.gov/pubmed/31680928). Note that you don't need to plot the smoothed histogram overlay shown in the paper [1.5 pts]\n"
   ]
  },
  {
   "cell_type": "code",
   "execution_count": 9,
   "metadata": {},
   "outputs": [],
   "source": [
    "import h5py\n",
    "import numpy as np\n",
    "import matplotlib.pyplot as plt\n",
    "from statsmodels.tsa.stattools import acf\n",
    "from statsmodels.graphics.tsaplots import plot_acf\n",
    "\n",
    "%matplotlib inline"
   ]
  },
  {
   "cell_type": "markdown",
   "metadata": {},
   "source": [
    "#### Loading and visualizing the data"
   ]
  },
  {
   "cell_type": "code",
   "execution_count": 27,
   "metadata": {},
   "outputs": [
    {
     "name": "stdout",
     "output_type": "stream",
     "text": [
      "<KeysViewHDF5 ['v0', 'v1', 'v10', 'v11', 'v12', 'v13', 'v14', 'v15', 'v16', 'v17', 'v18', 'v19', 'v2', 'v20', 'v21', 'v22', 'v23', 'v24', 'v25', 'v26', 'v27', 'v28', 'v29', 'v3', 'v4', 'v5', 'v6', 'v7', 'v8', 'v9']>\n"
     ]
    },
    {
     "data": {
      "text/plain": [
       "Text(0, 0.5, 'voltage, mV')"
      ]
     },
     "execution_count": 27,
     "metadata": {},
     "output_type": "execute_result"
    },
    {
     "data": {
      "image/png": "[encoded data removed]",
      "text/plain": [
       "<Figure size 432x288 with 1 Axes>"
      ]
     },
     "metadata": {
      "needs_background": "light"
     },
     "output_type": "display_data"
    }
   ],
   "source": [
    "data = h5py.File('Group8/connection_c60.h5', 'r')\n",
    "\n",
    "STIM_TIMES = [1000, 1500, 2000, 2500, 3000, 3500, 4000, 4500, 10000]\n",
    "time = np.arange(0,1.3,0.0001)\n",
    "\n",
    "print(data.keys())\n",
    "\n",
    "connection_array = []\n",
    "for v in data.keys():\n",
    "    dat = data.get(v)\n",
    "    dat = np.array(dat)\n",
    "    connection_array.append(dat)\n",
    "\n",
    "mean_trace =np.mean(connection_array, axis = 0)\n",
    "time = np.arange(0,1.3,0.0001)\n",
    "\n",
    "plt.figure()\n",
    "for rep in connection_array:\n",
    "    plt.plot(time, rep*1000, 'b--')\n",
    "plt.plot(time, mean_trace*1000, 'r')\n",
    "plt.plot(time[STIM_TIMES[7]+1500], 1000*mean_trace[STIM_TIMES[7]+1500], 'ko')\n",
    "plt.plot(time[STIM_TIMES[8]], 1000*mean_trace[STIM_TIMES[8]], 'ko')\n",
    "plt.xlabel('time, s')\n",
    "plt.ylabel('voltage, mV')"
   ]
  },
  {
   "cell_type": "markdown",
   "metadata": {},
   "source": [
    "### Computing sigma"
   ]
  },
  {
   "cell_type": "code",
   "execution_count": 12,
   "metadata": {},
   "outputs": [],
   "source": [
    "def get_data(file_name):\n",
    "    data = h5py.File(file_name, 'r')\n",
    "    connection_array = []\n",
    "    for v in data.keys():\n",
    "        dat = data.get(v)\n",
    "        dat = np.array(dat)\n",
    "        connection_array.append(dat)\n",
    "        \n",
    "    return connection_array\n",
    "\n",
    "def compute_sigma(file_name, STIM_TIMES, t_wind_bef, t_wind_aft):\n",
    "    \"\"\"\n",
    "    This function compute the standard deviation of the voltage in the traces\n",
    "    :param traces: traces\n",
    "    :param STIM_TIMES: times where a stimulus is performed\n",
    "    :param t_wind_bef: time window before the stimulus\n",
    "    :param t_wind_aft: time window after the stimulus \n",
    "    :return amplitudes: list with amplitude values\n",
    "    \"\"\"\n",
    "    traces = get_data(file_name)\n",
    "    stds = []\n",
    "    max_list = []\n",
    "    min_list = []\n",
    "    for trace in traces:\n",
    "        # as in the paper, we take the voltages between the 8th and 9th EPSPs\n",
    "        # multiply by 1000 to have mV\n",
    "        \n",
    "        # if we consider time window before and after -->\n",
    "        std = np.std(trace[(STIM_TIMES[7]+ t_wind_aft):(STIM_TIMES[8]-t_wind_bef)]*1000)   \n",
    "        stds.append(std)\n",
    "    return stds"
   ]
  },
  {
   "cell_type": "code",
   "execution_count": 20,
   "metadata": {},
   "outputs": [
    {
     "data": {
      "text/plain": [
       "Text(0, 0.5, '# of repetitions')"
      ]
     },
     "execution_count": 20,
     "metadata": {},
     "output_type": "execute_result"
    },
    {
     "data": {
      "image/png": "[encoded data removed]",
      "text/plain": [
       "<Figure size 432x288 with 1 Axes>"
      ]
     },
     "metadata": {
      "needs_background": "light"
     },
     "output_type": "display_data"
    }
   ],
   "source": [
    "STIM_TIMES = [1000, 1500, 2000, 2500, 3000, 3500, 4000, 4500, 10000]\n",
    "t_wind_aft = 1500 #  to start after the last spike\n",
    "t_wind_bef = 0\n",
    "time = np.arange(0,1.3,0.0001)\n",
    "\n",
    "file = 'Group8/connection_c60.h5'\n",
    "\n",
    "sigmas = compute_sigma(file, STIM_TIMES, t_wind_bef, t_wind_aft)\n",
    "\n",
    "plt.hist(sigmas, bins=8)\n",
    "plt.xlabel(r'$\\sigma$ (mV)')\n",
    "plt.ylabel('# of repetitions')"
   ]
  },
  {
   "cell_type": "markdown",
   "metadata": {},
   "source": [
    "### Compute tau"
   ]
  },
  {
   "cell_type": "code",
   "execution_count": 21,
   "metadata": {},
   "outputs": [],
   "source": [
    "from scipy.optimize import curve_fit\n",
    "\n",
    "def func_exp(x, tau):\n",
    "    return np.exp(-x/tau)\n",
    "\n",
    "def compute_fitting(x_data, y_data):\n",
    "    popt, pcov = curve_fit(func_exp, x_data, y_data)\n",
    "    return popt[0] # it returns tau\n",
    "\n",
    "def compute_tau(file_name, STIM_TIMES, t_wind_bef, t_wind_aft):\n",
    "    \"\"\"\n",
    "    This function compute the standard deviation of the voltage in the traces\n",
    "    :param traces: traces\n",
    "    :param STIM_TIMES: times where a stimulus is performed\n",
    "    :param t_wind_bef: time window before the stimulus\n",
    "    :param t_wind_aft: time window after the stimulus \n",
    "    :return amplitudes: list with amplitude values\n",
    "    \"\"\"\n",
    "    traces = get_data(file_name)\n",
    "    correlations = []\n",
    "    taus = []\n",
    "    for trace in traces:\n",
    "        # as in the paper, we take the voltages between the 8th and 9th EPSPs\n",
    "        x = trace[(STIM_TIMES[7]+ t_wind_aft):(STIM_TIMES[8]-t_wind_bef)]*1000  \n",
    "        \n",
    "        # compute autocorrelation\n",
    "        corr = acf(x, nlags=len(x), fft=False)\n",
    "        correlations.append(corr)\n",
    "        \n",
    "        # set time to ms\n",
    "        t = np.arange(0, len(x))*0.1\n",
    "        \n",
    "        # fit to an exponential to obtain tau\n",
    "        tau = compute_fitting(t, corr)\n",
    "        \n",
    "        taus.append(tau)\n",
    "    return taus, correlations"
   ]
  },
  {
   "cell_type": "code",
   "execution_count": 23,
   "metadata": {},
   "outputs": [
    {
     "data": {
      "text/plain": [
       "Text(0, 0.5, '# of repetitions')"
      ]
     },
     "execution_count": 23,
     "metadata": {},
     "output_type": "execute_result"
    },
    {
     "data": {
      "image/png": "[encoded data removed]",
      "text/plain": [
       "<Figure size 432x288 with 1 Axes>"
      ]
     },
     "metadata": {
      "needs_background": "light"
     },
     "output_type": "display_data"
    }
   ],
   "source": [
    "STIM_TIMES = [1000, 1500, 2000, 2500, 3000, 3500, 4000, 4500, 10000]\n",
    "t_wind_aft = 1500\n",
    "t_wind_bef = 0\n",
    "\n",
    "file = 'Group8/connection_c60.h5'\n",
    "\n",
    "taus, correlations = compute_tau(file, STIM_TIMES, t_wind_bef, t_wind_aft)\n",
    "plt.hist(taus, bins=8)\n",
    "plt.xlabel(r'$\\tau$ (ms)')\n",
    "plt.ylabel('# of repetitions')"
   ]
  },
  {
   "cell_type": "markdown",
   "metadata": {},
   "source": [
    "We follow the same steps as in [Barros-Zulaica et al., 2019](https://www.ncbi.nlm.nih.gov/pubmed/31680928) to compute the parameters that define the Ornstein-Uhlenbeck process: σ and τ.\n",
    "\n",
    "As in the paper, we defined σ and τ using the voltage values between the 8th and the 9th EPSPs, for each repetition (sweep) in a connection. By computing the standard deviation of these points, we obtained one σ per repetition. By computing the autocorrelation of this part of the voltage trace and fitting it to an exponential, we obtained one τ per repetition. [Barros-Zulaica et al., 2019](https://www.ncbi.nlm.nih.gov/pubmed/31680928) then averaged the resulting values for each connection. In our plots, we present the histogram of the values for each repetition within the same connection. We can see how the range of our results values are similar to the ones obtained in the paper."
   ]
  },
  {
   "cell_type": "markdown",
   "metadata": {},
   "source": [
    "# Ex 4. Compute failure rate\n",
    "\n",
    "<font size='3'>Compute the failure rate of the EPSPs from the connections of your group folder. The failure rate is the fraction of trials from which no PSP is generated above certain threshold. You can find a way of computing the failure rate in [Feldmeyer et al., 1999](https://www.ncbi.nlm.nih.gov/pmc/articles/PMC2269646/). Plot the mean failure rate for each of the three connections, as a function of the thresholds used in the definition of a failure. What does this tell you about your three different connections? [1.5 pts]"
   ]
  },
  {
   "cell_type": "code",
   "execution_count": 63,
   "metadata": {},
   "outputs": [],
   "source": [
    "def amp_rise_lat_firstEPSP(sample_connection, STIM_TIMES, time, t_wind_bef, t_wind_aft, PLOT = False):\n",
    "    \"\"\"\n",
    "    This function selects the rise curve (first EPSP) and find the  5, 20 and 80 % of the amplitude.\n",
    "    Firstly computes the amplitude as the difference minimum - maximum in the interval (first_stimulus, max_peak).\n",
    "    Secondly computes the percentages and find the times for these respective values.\n",
    "    Tau_rise = 80%_time - 20%_time (Feldmeyer et al., 1999)\n",
    "    latency = 5%_time - first_stimulus\n",
    "    :param sample_connection: array with voltage traces oriented (voltage vs trials)(row vs column)\n",
    "    :param STIM_TIMES: list with the stimuli points\n",
    "    :param time: list with time steps in s\n",
    "    :param t_wind_aft: time window after the stim time to compute max and min\n",
    "    :param t_wind_bef: time window before the stim time to compute max and min\n",
    "    :return amp_value: amplitude of the first EPSP computed as the difference between the 20 and the 80 % of rise\n",
    "    :return TAU_rise: list with tau_rise values in ms. Computed as the distance between the times when\n",
    "    the 20 and 80 % of the rise part for the first EPSP happens\n",
    "    :return latency: list with latency values in ms. Computed as the time between the AP of the presynaptic cell\n",
    "    and the 5% of the first EPSP\n",
    "    \"\"\"\n",
    "    # The analysis are performed over the mean trace\n",
    "    conn = sample_connection\n",
    "\n",
    "    # save only the trace part for the first peak for voltage and time\n",
    "    rise_curve = conn[STIM_TIMES[0] - t_wind_bef:STIM_TIMES[0] + t_wind_aft]\n",
    "    rise_curve_time = time[STIM_TIMES[0] - t_wind_bef:STIM_TIMES[0] + t_wind_aft]\n",
    "\n",
    "    # find max, min and compute amplitude\n",
    "    max_value = np.max(rise_curve)\n",
    "    min_value = np.min(rise_curve)\n",
    "    amp_value_total = np.abs(max_value - min_value)\n",
    "\n",
    "    # compute percentages\n",
    "    twenty_peak_value = amp_value_total * 80.0 / 100.0\n",
    "    eighty_peak_value = amp_value_total * 20.0 / 100.0\n",
    "    five_peak_value = amp_value_total * 95.0 / 100.0\n",
    "    amp_value = eighty_peak_value - twenty_peak_value\n",
    "\n",
    "    # Find the exact voltage point\n",
    "    twenty_curve_value = -(twenty_peak_value - max_value)\n",
    "    eighty_curve_value = -(eighty_peak_value - max_value)\n",
    "    five_curve_value = -(five_peak_value - max_value)\n",
    "\n",
    "    # Find time point for the minimum\n",
    "    for x, s in zip(rise_curve, rise_curve_time):\n",
    "        if (x == min_value):\n",
    "            min_time = s\n",
    "\n",
    "    # Find time points for the 5, 20 and 80 % of the first EPSP\n",
    "    n = 0\n",
    "    m = 0\n",
    "    l = 0\n",
    "    for i, j in zip(rise_curve, rise_curve_time):\n",
    "        if (n == 0) and (i > twenty_curve_value) and (j > min_time):\n",
    "            twenty_time = j\n",
    "            n = 1\n",
    "        if (m == 0) and (i > eighty_curve_value) and (j > min_time):\n",
    "            eighty_time = j\n",
    "            m = 1\n",
    "        if (l == 0) and (i > five_curve_value) and (j > min_time):\n",
    "            five_time = j\n",
    "            l = 1\n",
    "    \n",
    "    pre_AP = time[STIM_TIMES[0]]\n",
    "    TAU_rise = np.abs((twenty_time-eighty_time))\n",
    "    latency = np.abs((five_time)-pre_AP)\n",
    "\n",
    "    # PLOT first EPSP with the computed points for the 5, 20 and 80 % of the first EPSP\n",
    "    if PLOT == True:\n",
    "        plt.figure()\n",
    "        plt.plot(rise_curve_time, rise_curve, label='first EPSP')\n",
    "        plt.plot(twenty_time, twenty_curve_value, 'ro', label='20%')\n",
    "        plt.plot(eighty_time, eighty_curve_value, 'mo', label='80%')\n",
    "        plt.plot(five_time, five_curve_value, 'go', label='5%')\n",
    "        plt.legend()\n",
    "        plt.show()\n",
    "\n",
    "    return amp_value, TAU_rise, latency"
   ]
  },
  {
   "cell_type": "code",
   "execution_count": 64,
   "metadata": {},
   "outputs": [],
   "source": [
    "# times where a stimulus is performed\n",
    "STIM_TIMES = [1000, 1500, 2000, 2500, 3000, 3500, 4000, 4500, 10000]\n",
    "t_wind_aft = 300\n",
    "t_wind_bef = 50\n",
    "time = np.arange(0,1.3,0.0001)\n",
    "\n",
    "def first_approach(file_name):\n",
    "    connections = get_data(file_name)\n",
    "    mean_con = np.mean(connections, axis = 0)\n",
    "\n",
    "\n",
    "    amp_value, TAU_rise, mean_latency = amp_rise_lat_firstEPSP(mean_con, STIM_TIMES, time, t_wind_bef, t_wind_aft, PLOT = False)\n",
    "\n",
    "    thresholds = np.arange(0.5, 5.5, 0.5)\n",
    "\n",
    "    fs_1s = []\n",
    "    fs_2s = []\n",
    "\n",
    "    for thrs in thresholds:\n",
    "        failures_1 = 0\n",
    "        latencies = []\n",
    "        # comparing to latency of the mean connection\n",
    "        for rep in connections:\n",
    "            _, _, latency = amp_rise_lat_firstEPSP(rep, STIM_TIMES, time, t_wind_bef, t_wind_aft, PLOT = False)\n",
    "            latencies.append(latency)\n",
    "            if latency >= thrs *mean_latency:\n",
    "                failures_1 += 1\n",
    "        #print('Failures 1 ', failures_1)\n",
    "        fs_1s.append(failures_1/len(latencies))\n",
    "\n",
    "        # comparing to mean of the latencies\n",
    "        failures_2 = 0\n",
    "        m_lat = np.mean(latencies)\n",
    "        for lat in latencies:\n",
    "            if lat >= thrs *m_lat:\n",
    "                failures_2 += 1\n",
    "        #print('Failures 2 ', failures_2)\n",
    "        fs_2s.append(failures_2/len(latencies))\n",
    "    return thresholds, fs_1s, fs_2s"
   ]
  },
  {
   "cell_type": "code",
   "execution_count": 65,
   "metadata": {},
   "outputs": [
    {
     "data": {
      "image/png": "[encoded data removed]",
      "text/plain": [
       "<Figure size 720x216 with 3 Axes>"
      ]
     },
     "metadata": {
      "needs_background": "light"
     },
     "output_type": "display_data"
    }
   ],
   "source": [
    "file_name = 'Group8/connection_c4.h5'\n",
    "thresholds, fs_1s_a, fs_2s_a = first_approach(file_name)\n",
    "file_name = 'Group8/connection_c75.h5'\n",
    "thresholds, fs_1s_b, fs_2s_b = first_approach(file_name)\n",
    "file_name = 'Group8/connection_c60.h5'\n",
    "thresholds, fs_1s_c, fs_2s_c = first_approach(file_name)\n",
    "\n",
    "fig, axs = plt.subplots(1, 3, figsize = (10, 3))\n",
    "axs[0].plot(thresholds, fs_1s_a)\n",
    "axs[1].plot(thresholds, fs_1s_b)\n",
    "_ = axs[2].plot(thresholds, fs_1s_c)\n",
    "\n",
    "file_number = ['c4', 'c75', 'c60']\n",
    "\n",
    "for (i,ax) in enumerate(axs):\n",
    "    ax.set_xlabel('scaling factor')\n",
    "    ax.set_ylim([-0.1, 0.9])\n",
    "    ax.set_title('File ' + file_number[i])\n",
    "    \n",
    "_ = axs[0].set_ylabel('failure rate')"
   ]
  },
  {
   "cell_type": "markdown",
   "metadata": {},
   "source": [
    "The latency is defined as the interval between the peak of the presynaptic AP and the onset of the EPSP. If there is a long latency, a long time has passed since the AP initiation in the presynaptic cell which in turn means that it might have failed to generate the EPSP. As in [Feldmeyer et al., 1999](https://www.ncbi.nlm.nih.gov/pmc/articles/PMC2269646/), we consider that failures are defined as latencies larger than 2·5 × the mean latency.\n",
    "\n",
    "For a small scaling factor, the connection 60 is the one with the highest failure rate. However, if we consider the scaling factor used in the paper (2.5), the connection 4 has one failure, but for the two other connections we find no failures."
   ]
  }
 ],
 "metadata": {
  "kernelspec": {
   "display_name": "Python 3",
   "language": "python",
   "name": "python3"
  },
  "language_info": {
   "codemirror_mode": {
    "name": "ipython",
    "version": 3
   },
   "file_extension": ".py",
   "mimetype": "text/x-python",
   "name": "python",
   "nbconvert_exporter": "python",
   "pygments_lexer": "ipython3",
   "version": "3.6.9"
  }
 },
 "nbformat": 4,
 "nbformat_minor": 4
}
